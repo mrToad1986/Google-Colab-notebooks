{
  "cells": [
    {
      "cell_type": "markdown",
      "metadata": {
        "id": "view-in-github",
        "colab_type": "text"
      },
      "source": [
        "<a href=\"https://colab.research.google.com/github/mrToad1986/Google-Colab-notebooks/blob/main/%D0%9C%D0%B5%D1%82%D0%BE%D0%B4%D1%8B_%D1%81%D0%B1%D0%BE%D1%80%D0%B0_%D0%B8_%D0%BE%D0%B1%D1%80%D0%B0%D0%B1%D0%BE%D1%82%D0%BA%D0%B8_%D0%B4%D0%B0%D0%BD%D0%BD%D1%8B%D1%85_2.ipynb\" target=\"_parent\"><img src=\"https://colab.research.google.com/assets/colab-badge.svg\" alt=\"Open In Colab\"/></a>"
      ]
    },
    {
      "cell_type": "markdown",
      "metadata": {
        "id": "fv3UX9hZxwMQ"
      },
      "source": [
        "**Парсинг данных. HTML, DOM, XPath**"
      ]
    },
    {
      "cell_type": "markdown",
      "metadata": {
        "id": "NUo11Bzg3VsE"
      },
      "source": [
        "1. Написать приложение или функцию, которые собирают основные новости с сайта (на выбор lenta.ru, yandex-новости). Для Парсинга данных использовать XPath.\n",
        "Структура данных в виде словаря должна содержать:\n",
        "- название источника;\n",
        "- наименование новости;\n",
        "- ссылку на новость;\n",
        "- дата публицкации\n",
        "\n",
        "Примечание - домашнее задание взято из лекции преподавателя"
      ]
    },
    {
      "cell_type": "code",
      "execution_count": null,
      "metadata": {
        "colab": {
          "base_uri": "https://localhost:8080/"
        },
        "id": "sdQhYdnz4313",
        "outputId": "7e65199a-d115-41f0-bef6-f0801c2802a1"
      },
      "outputs": [
        {
          "output_type": "stream",
          "name": "stdout",
          "text": [
            "Looking in indexes: https://pypi.org/simple, https://us-python.pkg.dev/colab-wheels/public/simple/\n",
            "Requirement already satisfied: lxml in /usr/local/lib/python3.9/dist-packages (4.9.2)\n",
            "Looking in indexes: https://pypi.org/simple, https://us-python.pkg.dev/colab-wheels/public/simple/\n",
            "Requirement already satisfied: requests in /usr/local/lib/python3.9/dist-packages (2.27.1)\n",
            "Requirement already satisfied: urllib3<1.27,>=1.21.1 in /usr/local/lib/python3.9/dist-packages (from requests) (1.26.15)\n",
            "Requirement already satisfied: idna<4,>=2.5 in /usr/local/lib/python3.9/dist-packages (from requests) (3.4)\n",
            "Requirement already satisfied: certifi>=2017.4.17 in /usr/local/lib/python3.9/dist-packages (from requests) (2022.12.7)\n",
            "Requirement already satisfied: charset-normalizer~=2.0.0 in /usr/local/lib/python3.9/dist-packages (from requests) (2.0.12)\n"
          ]
        }
      ],
      "source": [
        "!pip install lxml\n",
        "!pip install requests"
      ]
    },
    {
      "cell_type": "code",
      "execution_count": null,
      "metadata": {
        "id": "d94glShq5LAU"
      },
      "outputs": [],
      "source": [
        "import requests\n",
        "from lxml import html\n",
        "from pprint import pprint"
      ]
    },
    {
      "cell_type": "code",
      "source": [
        "url = 'https://www.lenta.ru'\n",
        "headers = {\n",
        "    'User-Agent': 'Mozilla/5.0 (Windows NT 10.0; Win64; x64) AppleWebKit/537.36 (KHTML, like Gecko) Chrome/112.0.0.0 Safari/537.36'\n",
        "}\n",
        "response = requests.get(url, headers=headers)\n",
        "dom = html.fromstring(response.text)\n",
        "news = dom.xpath(\"//div[@class='topnews']\")\n",
        "\n",
        "for article in news:\n",
        "  title = article.xpath(\".//div[@class='topnews__column']/a/div/span/text()\")\n",
        "  date = article.xpath(\".//div[@class='topnews__column']/a/div/div[@class='card-mini__info']/time/text()\")\n",
        "  href = article.xpath(\".//div[@class='topnews__column']/a/@href\")\n"
      ],
      "metadata": {
        "id": "WXlbD3HUCJ2t"
      },
      "execution_count": null,
      "outputs": []
    },
    {
      "cell_type": "code",
      "source": [
        "article_list = []\n",
        "for i in range(0, len(title)):\n",
        "  card = {\n",
        "    'title': title[i],\n",
        "    'date': date[i],\n",
        "    'href': f'http//lenta.ru{href[i]}'\n",
        "  }\n",
        "  article_list.append(card)\n",
        "\n",
        "pprint (article_list)"
      ],
      "metadata": {
        "colab": {
          "base_uri": "https://localhost:8080/"
        },
        "id": "lqBxGVazDZ_U",
        "outputId": "168eb087-8399-45e7-d0de-ea75e30e43af"
      },
      "execution_count": null,
      "outputs": [
        {
          "output_type": "stream",
          "name": "stdout",
          "text": [
            "[{'date': '09:55',\n",
            "  'href': 'http//lenta.ru/news/2023/04/11/povestkkki/',\n",
            "  'title': 'В Госдуме уточнили новые правила вручения повесток'},\n",
            " {'date': '09:54',\n",
            "  'href': 'http//lenta.ru/news/2023/04/11/avia/',\n",
            "  'title': 'В России захотели убрать автоматическую страховку при\\xa0продаже '\n",
            "           'авиабилетов'},\n",
            " {'date': '09:53',\n",
            "  'href': 'http//lenta.ru/news/2023/04/11/jidkost/',\n",
            "  'title': 'В Петербурге трехлетняя девочка выпила жидкость для розжига'},\n",
            " {'date': '09:53',\n",
            "  'href': 'http//lenta.ru/news/2023/04/11/crynotcry/',\n",
            "  'title': 'Украинского футболиста раскритиковали за слезы во время матча АПЛ'},\n",
            " {'date': '09:53',\n",
            "  'href': 'http//lenta.ruhttps://moslenta.ru/news/lyudi/gosuslug-11-04-2023.htm',\n",
            "  'title': 'Пользователям портала «Госуслуг» вновь стала доступна функция '\n",
            "           'удаления профиля'},\n",
            " {'date': '09:52',\n",
            "  'href': 'http//lenta.ru/news/2023/04/11/zamgubera/',\n",
            "  'title': 'Замгубернатора НАО обвинили в получении взятки в три миллиона '\n",
            "           'рублей'},\n",
            " {'date': '09:52',\n",
            "  'href': 'http//lenta.ru/news/2023/04/11/margor/',\n",
            "  'title': 'Пушилин заявил об улучшении позиций российских сил в ДНР'},\n",
            " {'date': '09:49',\n",
            "  'href': 'http//lenta.ru/news/2023/04/11/vibory/',\n",
            "  'title': 'Выборы мэра в российском городе признали несостоявшимися'},\n",
            " {'date': '09:44',\n",
            "  'href': 'http//lenta.ru/news/2023/04/11/egyptsupply/',\n",
            "  'title': 'Утечка разведданных США пролила свет на планы Египта помочь России '\n",
            "           'в СВО'},\n",
            " {'date': '09:44',\n",
            "  'href': 'http//lenta.ru/news/2023/04/11/kartapolov/',\n",
            "  'title': 'Новые правила вручения повесток в России распространят на всех '\n",
            "           'военнообязанных'},\n",
            " {'date': '09:32',\n",
            "  'href': 'http//lenta.ru/news/2023/04/11/imece/',\n",
            "  'title': 'Запуск первого турецкого наблюдательного спутника отложили'},\n",
            " {'date': '09:20',\n",
            "  'href': 'http//lenta.ru/news/2023/04/11/podozhdite/',\n",
            "  'title': 'Одна из крупнейших газовых компаний России попросила снизить '\n",
            "           'налоги'}]\n"
          ]
        }
      ]
    },
    {
      "cell_type": "markdown",
      "source": [
        "Удалось извлечь все, кроме источника данных. Такой информации в новостной карточке нет."
      ],
      "metadata": {
        "id": "8F703z1UNh-8"
      }
    }
  ],
  "metadata": {
    "colab": {
      "provenance": [],
      "authorship_tag": "ABX9TyNiw2cYRDUjOhkfL4BfX91K",
      "include_colab_link": true
    },
    "kernelspec": {
      "display_name": "Python 3",
      "name": "python3"
    },
    "language_info": {
      "name": "python"
    }
  },
  "nbformat": 4,
  "nbformat_minor": 0
}